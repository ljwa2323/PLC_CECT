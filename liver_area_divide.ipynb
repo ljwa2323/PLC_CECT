{
 "cells": [
  {
   "cell_type": "code",
   "execution_count": 1,
   "id": "707ade48",
   "metadata": {},
   "outputs": [],
   "source": [
    "import pandas as pd\n",
    "import SimpleITK as sitk\n",
    "import os"
   ]
  },
  {
   "cell_type": "code",
   "execution_count": 23,
   "id": "146565d2",
   "metadata": {},
   "outputs": [],
   "source": [
    "# 读取Excel表格数据\n",
    "df = pd.read_excel(\"./切NII目录清单4.xlsx\",sheet_name=0)"
   ]
  },
  {
   "cell_type": "code",
   "execution_count": 24,
   "id": "4ba26985",
   "metadata": {},
   "outputs": [
    {
     "data": {
      "text/html": [
       "<div>\n",
       "<style scoped>\n",
       "    .dataframe tbody tr th:only-of-type {\n",
       "        vertical-align: middle;\n",
       "    }\n",
       "\n",
       "    .dataframe tbody tr th {\n",
       "        vertical-align: top;\n",
       "    }\n",
       "\n",
       "    .dataframe thead th {\n",
       "        text-align: right;\n",
       "    }\n",
       "</style>\n",
       "<table border=\"1\" class=\"dataframe\">\n",
       "  <thead>\n",
       "    <tr style=\"text-align: right;\">\n",
       "      <th></th>\n",
       "      <th>文件夹名</th>\n",
       "      <th>文件名</th>\n",
       "      <th>起始位置</th>\n",
       "      <th>结束位置</th>\n",
       "    </tr>\n",
       "  </thead>\n",
       "  <tbody>\n",
       "    <tr>\n",
       "      <th>0</th>\n",
       "      <td>1</td>\n",
       "      <td>volume-1.nii</td>\n",
       "      <td>46</td>\n",
       "      <td>75</td>\n",
       "    </tr>\n",
       "    <tr>\n",
       "      <th>1</th>\n",
       "      <td>1</td>\n",
       "      <td>volume-2.nii</td>\n",
       "      <td>333</td>\n",
       "      <td>475</td>\n",
       "    </tr>\n",
       "    <tr>\n",
       "      <th>2</th>\n",
       "      <td>1</td>\n",
       "      <td>volume-3.nii</td>\n",
       "      <td>304</td>\n",
       "      <td>475</td>\n",
       "    </tr>\n",
       "    <tr>\n",
       "      <th>3</th>\n",
       "      <td>1</td>\n",
       "      <td>volume-4.nii</td>\n",
       "      <td>347</td>\n",
       "      <td>598</td>\n",
       "    </tr>\n",
       "    <tr>\n",
       "      <th>4</th>\n",
       "      <td>1</td>\n",
       "      <td>volume-5.nii</td>\n",
       "      <td>312</td>\n",
       "      <td>489</td>\n",
       "    </tr>\n",
       "  </tbody>\n",
       "</table>\n",
       "</div>"
      ],
      "text/plain": [
       "   文件夹名           文件名  起始位置  结束位置\n",
       "0     1  volume-1.nii    46    75\n",
       "1     1  volume-2.nii   333   475\n",
       "2     1  volume-3.nii   304   475\n",
       "3     1  volume-4.nii   347   598\n",
       "4     1  volume-5.nii   312   489"
      ]
     },
     "execution_count": 24,
     "metadata": {},
     "output_type": "execute_result"
    }
   ],
   "source": [
    "df.head()"
   ]
  },
  {
   "cell_type": "code",
   "execution_count": 25,
   "id": "b6168ae3",
   "metadata": {},
   "outputs": [],
   "source": [
    "source_path = \"D:/data_rearange/9.25/\"\n",
    "target_path = \"D:/data_rearange/target3/\""
   ]
  },
  {
   "cell_type": "code",
   "execution_count": 26,
   "id": "fceec44e",
   "metadata": {},
   "outputs": [],
   "source": [
    "folders = df[\"文件夹名\"]\n",
    "filenames = df[\"文件名\"]\n",
    "start_pos = df[\"起始位置\"]\n",
    "end_pos = df[\"结束位置\"]"
   ]
  },
  {
   "cell_type": "code",
   "execution_count": 27,
   "id": "9724dfae",
   "metadata": {},
   "outputs": [],
   "source": [
    "# 初始化一个列表用于保存路径不存在的filename\n",
    "not_exist_filenames = []"
   ]
  },
  {
   "cell_type": "code",
   "execution_count": null,
   "id": "0eeff03b",
   "metadata": {},
   "outputs": [],
   "source": [
    "# 遍历Excel表格中的数据，对原始nii文件进行切割并保存到新的nii文件中\n",
    "for index, row in df.iterrows():\n",
    "    folder = row['文件夹名']\n",
    "    filename = row['文件名']\n",
    "    start = row['起始位置']\n",
    "    end = row['结束位置']\n",
    "    \n",
    "    print(f\"正在处理文件夹{folder}中的文件{filename}，起始位置：{start}，结束位置：{end}\")\n",
    "    \n",
    "    # 判断文件是否存在\n",
    "    file_path = os.path.join(source_path, str(folder), filename)\n",
    "    if not os.path.exists(file_path):\n",
    "        print(f\"文件{file_path}不存在\")\n",
    "        not_exist_filenames.append(filename)\n",
    "        continue\n",
    "    \n",
    "    try:\n",
    "        # 读取原始nii文件\n",
    "        image = sitk.ReadImage(file_path)\n",
    "        array = sitk.GetArrayFromImage(image)\n",
    "        \n",
    "        # 对图像进行切割\n",
    "        slice_array = array[start:end+1, :, :]\n",
    "        slice_image = sitk.GetImageFromArray(slice_array)\n",
    "        \n",
    "        # 设置新图像的体素间距、原点坐标和坐标系方向信息\n",
    "        slice_image.SetSpacing(image.GetSpacing())\n",
    "        slice_image.SetOrigin(image.GetOrigin())\n",
    "        slice_image.SetDirection(image.GetDirection())\n",
    "        \n",
    "        # 保存切割后的图像到新的nii文件中\n",
    "        output_folder = os.path.join(target_path, str(folder))\n",
    "        output_filename = f\"{filename}.gz\"\n",
    "        output_path = os.path.join(output_folder, output_filename)\n",
    "        \n",
    "        # 如果文件已经存在，跳过当前文件\n",
    "        if os.path.exists(output_path):\n",
    "            print(f\"文件{output_path}已存在，跳过当前文件\")\n",
    "            continue\n",
    "        \n",
    "        # 创建文件夹（如果不存在）\n",
    "        os.makedirs(output_folder, exist_ok=True)\n",
    "        \n",
    "        # 保存图像\n",
    "        sitk.WriteImage(slice_image, output_path)\n",
    "        print(f\"处理完成，结果保存到{output_path}\")\n",
    "    except Exception as e:\n",
    "        print(f\"处理文件{filename}时发生错误：{e}\")"
   ]
  },
  {
   "cell_type": "code",
   "execution_count": 12,
   "id": "e3ef82e7",
   "metadata": {},
   "outputs": [
    {
     "name": "stdout",
     "output_type": "stream",
     "text": [
      "['volume-1.nii.gz', 'volume-2.nii.gz', 'volume-3.nii.gz', 'volume-4.nii.gz', 'volume-5.nii.gz', 'volume-6.nii.gz', 'volume-7.nii.gz', 'volume-8.nii.gz', 'volume-9.nii.gz', 'volume-10.nii.gz', 'volume-11.nii.gz', 'volume-12.nii.gz', 'volume-13.nii.gz', 'volume-14.nii.gz', 'volume-15.nii.gz', 'volume-16.nii.gz', 'volume-17.nii.gz', 'volume-18.nii.gz', 'volume-19.nii.gz', 'volume-20.nii.gz', 'volume-21.nii.gz', 'volume-22.nii.gz', 'volume-23.nii.gz', 'volume-24.nii.gz', 'volume-25.nii.gz', 'volume-26.nii.gz', 'volume-27.nii.gz', 'volume-28.nii.gz', 'volume-29.nii.gz', 'volume-30.nii.gz']\n"
     ]
    }
   ],
   "source": [
    "print(not_exist_filenames)"
   ]
  }
 ],
 "metadata": {
  "kernelspec": {
   "display_name": "py37",
   "language": "python",
   "name": "python3"
  },
  "language_info": {
   "codemirror_mode": {
    "name": "ipython",
    "version": 3
   },
   "file_extension": ".py",
   "mimetype": "text/x-python",
   "name": "python",
   "nbconvert_exporter": "python",
   "pygments_lexer": "ipython3",
   "version": "3.7.13"
  }
 },
 "nbformat": 4,
 "nbformat_minor": 5
}
